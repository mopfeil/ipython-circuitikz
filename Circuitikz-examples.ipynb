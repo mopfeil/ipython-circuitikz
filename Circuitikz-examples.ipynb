{
 "cells": [
  {
   "cell_type": "markdown",
   "metadata": {},
   "source": [
    "# IPython extension for drawing circuit diagrams with LaTeX/Circuitikz"
   ]
  },
  {
   "cell_type": "markdown",
   "metadata": {},
   "source": [
    "Created by Robert Johansson\n",
    "This fork by Markus Pfeil\n",
    "\n",
    "https://github.com/mopfeil/tikzmagic"
   ]
  },
  {
   "cell_type": "markdown",
   "metadata": {},
   "source": [
    "## Requirements"
   ]
  },
  {
   "cell_type": "markdown",
   "metadata": {},
   "source": [
    "This IPython magic command uses the following external dependencies: `pdflatex`, `pdfcrop`, the [Circuitikz](http://www.ctan.org/pkg/circuitikz) package and \n",
    "\n",
    " * for PNG output: `convert` from ImageMagick and `Ghostscript`\n",
    " * for SVG output: `pdf2svg`"
   ]
  },
  {
   "cell_type": "markdown",
   "metadata": {},
   "source": [
    "## Installation"
   ]
  },
  {
   "cell_type": "markdown",
   "metadata": {},
   "source": [
    "Clone the tikzmagic repository into a directory of your own. Assume that it resides in 'C:/Users/mopfe/Dropbox/HRW/ipython_circuitikz/"
   ]
  },
  {
   "cell_type": "code",
   "execution_count": 3,
   "metadata": {},
   "outputs": [],
   "source": [
    "import os\n",
    "import sys \n",
    "try:\n",
    "  import ipython_circuitikz.circuitikz\n",
    "except ImportError:\n",
    "  # Assuming CWD is C:/user/mopfeil/ipython_circuitikz/\n",
    "  assert os.path.isfile('C:/Users/mopfe/Dropbox/HRW/ipython_circuitikz/circuitikz.py')\n",
    "  sys.path.append('C:/Users/mopfe/Dropbox/HRW/')\n",
    "  import ipython_circuitikz.circuitikz"
   ]
  },
  {
   "cell_type": "markdown",
   "metadata": {},
   "source": [
    "## Load the extension"
   ]
  },
  {
   "cell_type": "code",
   "execution_count": 4,
   "metadata": {},
   "outputs": [],
   "source": [
    "%reload_ext circuitikz"
   ]
  },
  {
   "cell_type": "markdown",
   "metadata": {},
   "source": [
    "## Example: SQUID"
   ]
  },
  {
   "cell_type": "code",
   "execution_count": 3,
   "metadata": {
    "scrolled": true
   },
   "outputs": [
    {
     "data": {
      "image/png": "[encoded data removed]",
      "text/plain": [
       "<IPython.core.display.Image object>"
      ]
     },
     "execution_count": 3,
     "metadata": {},
     "output_type": "execute_result"
    }
   ],
   "source": [
    "%%circuitikz filename=squid dpi=125\n",
    "\n",
    "\\begin{circuitikz}[scale=1]\n",
    "\\draw ( 0, 0) [short, *-] node[anchor=south] {$\\Phi_J$} to (0, -1);\n",
    "\n",
    "% right\n",
    "\\draw ( 0, -1) to (2, -1) to node[anchor=west] {$\\Phi_{J}^2$} (2, -2) to (3, -2)\n",
    "               to [barrier, l=$E_J^2$] (3, -4) to (2, -4)to (2, -5) to (0, -5) node[ground] {};\n",
    "\\draw ( 2, -2) to (1, -2) to [capacitor, l=$C_J^2$] (1, -4) to (1, -4) to (2, -4);\n",
    "\n",
    "% left\n",
    "\\draw ( 0, -1) to (-2, -1) to node[anchor=west] {$\\Phi_{J}^1$} (-2, -2) to (-3, -2)\n",
    "               to [capacitor, l=$C_J^1$] (-3, -4) to (-2, -4)  to (-2, -5) to (0, -5); \n",
    "\\draw (-2, -2) to (-1, -2) to [barrier, l=$E_J^1$] (-1, -4) to (-1, -4) to (-2, -4);\n",
    "\\end{circuitikz}"
   ]
  },
  {
   "cell_type": "markdown",
   "metadata": {},
   "source": [
    "## Example: Transmission line"
   ]
  },
  {
   "cell_type": "code",
   "execution_count": 4,
   "metadata": {},
   "outputs": [
    {
     "data": {
      "image/png": "[encoded data removed]",
      "text/plain": [
       "<IPython.core.display.Image object>"
      ]
     },
     "execution_count": 4,
     "metadata": {},
     "output_type": "execute_result"
    }
   ],
   "source": [
    "%%circuitikz filename=tm dpi=150\n",
    "\n",
    "\\begin{circuitikz}[scale=1.25]\n",
    "\n",
    "\\draw (-1,0) node[anchor=east] {} to [short, *-*] (1,0);\n",
    "\\draw (-1,2) node[anchor=east] {} to [inductor, *-*,  l=$\\Delta x L$] (1,2);\n",
    "\\draw (-1,0) to [open, l=$\\cdots$] (-1,2);    \n",
    "\\draw (3, 0) to (1, 0) to [capacitor, l=$\\Delta x C$, *-*] (1, 2) to [inductor, *-*, l=$\\Delta x L$] (3, 2);\n",
    "\\draw (5, 0) to (3, 0) to [capacitor, l=$\\Delta x C$, *-*] (3, 2) to [inductor, *-*, l=$\\Delta x L$] (5, 2);\n",
    "\\draw (7, 0) to (5, 0) to [capacitor, l=$\\Delta x C$, *-*] (5, 2) to [inductor, *-*, l=$\\Delta x L$] (7, 2);\n",
    "\\draw (9, 0) to (7, 0) to [capacitor, l=$\\Delta x C$, *-*] (7, 2) to [inductor, *-*, l=$\\Delta x L$] (9, 2);\n",
    "\\draw (9,0) node[anchor=east] {} to [short, *-*] (9,0);\n",
    "\\draw (10,0) to [open, l=$\\cdots$] (10,2);\n",
    "\n",
    "\\end{circuitikz}"
   ]
  }
 ],
 "metadata": {
  "kernelspec": {
   "display_name": "Python 3",
   "language": "python",
   "name": "python3"
  },
  "language_info": {
   "codemirror_mode": {
    "name": "ipython",
    "version": 3
   },
   "file_extension": ".py",
   "mimetype": "text/x-python",
   "name": "python",
   "nbconvert_exporter": "python",
   "pygments_lexer": "ipython3",
   "version": "3.6.5"
  }
 },
 "nbformat": 4,
 "nbformat_minor": 1
}
